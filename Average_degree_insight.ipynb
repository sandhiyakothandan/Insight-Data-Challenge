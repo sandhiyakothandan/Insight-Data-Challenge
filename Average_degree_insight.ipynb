{
 "cells": [
  {
   "cell_type": "code",
   "execution_count": null,
   "metadata": {
    "collapsed": false
   },
   "outputs": [],
   "source": [
    "import json\n",
    "import pandas as pd\n",
    "import numpy as np \n",
    "import matplotlib.pyplot as plt\n",
    "import time \n",
    "\n",
    "import matplotlib.pyplot as plt\n",
    "import pylab\n",
    "from pylab import rcParams\n",
    "        \n",
    "import networkx as nx\n",
    "import numpy as np\n",
    "\n",
    "#tweets_data_path = 'D:\\\\coding-challenge-master\\\\data-gen\\\\tweets.txt'\n",
    "\n",
    "tweets_data_path = 'D:\\\\coding-challenge-master\\\\insight_testsuite\\\\tests\\\\test-2-tweets-all-distinct\\\\tweet_input\\\\tweets.txt'\n",
    "print tweets_data_path\n",
    "\n",
    "tweets_data1 = []\n",
    "tweets_file = open(tweets_data_path,\"r\")\n",
    "for line in tweets_file:\n",
    "    try:\n",
    "        tweet = json.loads(line)\n",
    "    except:\n",
    "        continue\n",
    "    if not all(x in tweet for x in ['text', 'lang', 'place']):\n",
    "        continue\n",
    "    if tweet['place'] and not 'country' in tweet['place']:\n",
    "        continue\n",
    "    if tweet['entities'] and not 'hashtags' in tweet['entities']:\n",
    "        continue\n",
    "    tweets_data1.append(tweet)\n",
    "\n",
    "len(tweets_data1)\n",
    "\n",
    "def Extract_hashtag(hashtag,tags=None):\n",
    "    \n",
    "    if tags is None: \n",
    "        tags = [] \n",
    "    if isinstance(hashtag,list): \n",
    "        \n",
    "        if len(hashtag) > 0:             \n",
    "            if isinstance(hashtag[0],dict): \n",
    "                Extract_hashtag(hashtag[0],tags) \n",
    "    if isinstance(hashtag,dict): \n",
    "        \n",
    "        for key, value in hashtag.items(): \n",
    "            if key == 'hashtags':\n",
    "                n_tags = len(hashtag[key]) \n",
    "                for i in xrange(n_tags): \n",
    "                    tags.append(hashtag[key][i]['text']) \n",
    "            else: \n",
    "                 Extract_hashtag(value,tags) \n",
    "    return tags \n",
    "\n",
    "\n",
    "if __name__ == '__main__': \n",
    "\n",
    "    tweet_frame = pd.DataFrame()\n",
    "    tweet_frame['text'] = map(lambda data: data['text'], tweets_data1)\n",
    "    tweet_frame['created_at']= map(lambda data: time.strftime('%Y-%m-%d %H:%M:%S',\\\n",
    "                                    time.strptime(data['created_at'],'%a %b %d %H:%M:%S +0000  %Y')), \\\n",
    "                           tweets_data1)\n",
    "    tweet_frame['lang'] = map(lambda data: data['lang'], tweets_data1)\n",
    "    tweet_frame['place'] = map(lambda data: data['place'], tweets_data1)\n",
    "    tweet_frame['A'] = [Extract_hashtag(tweet) for tweet in tweets_data1] \n",
    "    \n",
    "    \n",
    "tweet_frame\n",
    "\n",
    "import networkx as nx\n",
    "G = nx.DiGraph()\n",
    "\n",
    "\n",
    "dfList = tweet_frame['A'].tolist()\n",
    "print dfList\n",
    "df = pd.Series(dfList)\n",
    "print df\n",
    "\n",
    "\n",
    "induvidual_hashtag = []\n",
    "for line in dfList :\n",
    "    for i in line :\n",
    "        word = i.strip().split(',')\n",
    "        countlist = set(word)\n",
    "        induvidual_hashtag.extend(countlist)\n",
    "    \n",
    "induvidual_hashtag    \n",
    "\n",
    "for_dict = dict(df)\n",
    "#for_dict\n",
    "dave = []\n",
    "for key , value in for_dict.iteritems():\n",
    "    dave.append( value)\n",
    "for_dict\n",
    "\n",
    "G.add_edges_from([(for_dict)])\n",
    "print G.edge\n",
    "val_map = for_dict\n",
    "print 'val_map' , val_map\n",
    "values = [val_map.get(node, 1.0) for node in G.nodes()]\n",
    "print 'val',values\n",
    "edge_labels=dict([(u,v) for u,v,d in G.edges(data=True)])\n",
    "\n",
    "\n",
    "nx.draw_networkx_edges(G,pos,width=2.0,alpha=0.65)\n",
    "#nx.draw_networkx_edge_labels(G,pos,edge_labels=edge_labels)\n",
    "\n",
    "nx.draw(G,pos, node_color = values, node_size=1500, edge_cmap=plt.cm.Reds)\n",
    "\n",
    "pylab.show()\n",
    "\n",
    "%matplotlib inline\n",
    "nx.draw(G)"
   ]
  },
  {
   "cell_type": "code",
   "execution_count": null,
   "metadata": {
    "collapsed": false
   },
   "outputs": [],
   "source": []
  },
  {
   "cell_type": "code",
   "execution_count": null,
   "metadata": {
    "collapsed": false
   },
   "outputs": [],
   "source": []
  },
  {
   "cell_type": "code",
   "execution_count": null,
   "metadata": {
    "collapsed": false
   },
   "outputs": [],
   "source": []
  },
  {
   "cell_type": "code",
   "execution_count": null,
   "metadata": {
    "collapsed": true
   },
   "outputs": [],
   "source": [
    "\n",
    "    "
   ]
  },
  {
   "cell_type": "code",
   "execution_count": null,
   "metadata": {
    "collapsed": true
   },
   "outputs": [],
   "source": []
  },
  {
   "cell_type": "code",
   "execution_count": 15,
   "metadata": {
    "collapsed": false
   },
   "outputs": [
    {
     "data": {
      "image/png": "[encoded data removed]",
      "text/plain": [
       "<matplotlib.figure.Figure at 0x65c1ff0>"
      ]
     },
     "metadata": {},
     "output_type": "display_data"
    }
   ],
   "source": []
  },
  {
   "cell_type": "code",
   "execution_count": null,
   "metadata": {
    "collapsed": false
   },
   "outputs": [],
   "source": [
    "    "
   ]
  },
  {
   "cell_type": "code",
   "execution_count": null,
   "metadata": {
    "collapsed": false
   },
   "outputs": [],
   "source": []
  },
  {
   "cell_type": "code",
   "execution_count": 28,
   "metadata": {
    "collapsed": false
   },
   "outputs": [],
   "source": []
  },
  {
   "cell_type": "code",
   "execution_count": null,
   "metadata": {
    "collapsed": false
   },
   "outputs": [],
   "source": []
  },
  {
   "cell_type": "code",
   "execution_count": null,
   "metadata": {
    "collapsed": false
   },
   "outputs": [],
   "source": []
  },
  {
   "cell_type": "code",
   "execution_count": null,
   "metadata": {
    "collapsed": false
   },
   "outputs": [],
   "source": []
  },
  {
   "cell_type": "code",
   "execution_count": null,
   "metadata": {
    "collapsed": false
   },
   "outputs": [],
   "source": []
  },
  {
   "cell_type": "code",
   "execution_count": null,
   "metadata": {
    "collapsed": false
   },
   "outputs": [],
   "source": []
  },
  {
   "cell_type": "code",
   "execution_count": null,
   "metadata": {
    "collapsed": false
   },
   "outputs": [],
   "source": [
    "\n"
   ]
  }
 ],
 "metadata": {
  "kernelspec": {
   "display_name": "Python 2",
   "language": "python",
   "name": "python2"
  },
  "language_info": {
   "codemirror_mode": {
    "name": "ipython",
    "version": 2
   },
   "file_extension": ".py",
   "mimetype": "text/x-python",
   "name": "python",
   "nbconvert_exporter": "python",
   "pygments_lexer": "ipython2",
   "version": "2.7.11"
  }
 },
 "nbformat": 4,
 "nbformat_minor": 0
}
